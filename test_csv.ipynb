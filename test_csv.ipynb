{
 "cells": [
  {
   "cell_type": "code",
   "execution_count": 1,
   "metadata": {},
   "outputs": [
    {
     "name": "stdout",
     "output_type": "stream",
     "text": [
      "  meal market_segment distribution_channel deposit_type customer_type  \\\n",
      "0    0              0                    0            0             0   \n",
      "1    1              1                    1            1             1   \n",
      "2    2              2                    2            2             2   \n",
      "3    3              3                    3            3             3   \n",
      "4    4              4                    4            4             4   \n",
      "\n",
      "  reservation_month reservation_day lead_time  arrival_date_day_of_month  \\\n",
      "0                 4               0         0                          5   \n",
      "1                 5               1         1                         10   \n",
      "2                 6               2         2                         15   \n",
      "3                 7               3         3                         20   \n",
      "4                 8               4         4                         25   \n",
      "\n",
      "   stays_in_week_nights  adults  children  babies  is_repeated_guest  \\\n",
      "0                     3       2         0       0                  0   \n",
      "1                     4       1         1       0                  1   \n",
      "2                     2       2         0       1                  0   \n",
      "3                     5       3         2       0                  1   \n",
      "4                     1       2         0       0                  0   \n",
      "\n",
      "   previous_cancellations  previous_bookings_not_canceled  booking_changes  \\\n",
      "0                       0                               2                1   \n",
      "1                       1                               0                0   \n",
      "2                       0                               3                2   \n",
      "3                       0                               1                3   \n",
      "4                       0                               4                0   \n",
      "\n",
      "   adr  required_car_parking_spaces  total_of_special_requests  \n",
      "0  100                            1                          2  \n",
      "1  120                            0                          0  \n",
      "2   90                            1                          1  \n",
      "3  150                            0                          3  \n",
      "4   80                            2                          2  \n"
     ]
    }
   ],
   "source": [
    "import pandas as pd\n",
    "import numpy as np\n",
    "\n",
    "# Define sample data for each column\n",
    "data = {\n",
    "    'meal': ['0', '1', '2', '3', '4'],\n",
    "    'market_segment': ['0', '1', '2', '3', '4'],\n",
    "    'distribution_channel': ['0', '1', '2', '3', '4'],\n",
    "    'deposit_type': ['0', '1', '2', '3', '4'],\n",
    "    'customer_type': ['0', '1', '2', '3', '4'],\n",
    "    'reservation_month': ['4', '5', '6', '7', '8'],\n",
    "    'reservation_day': ['0', '1', '2', '3', '4'],\n",
    "    'lead_time': ['0', '1', '2', '3', '4'],\n",
    "    'arrival_date_day_of_month': [5, 10, 15, 20, 25],\n",
    "    'stays_in_week_nights': [3, 4, 2, 5, 1],\n",
    "    'adults': [2, 1, 2, 3, 2],\n",
    "    'children': [0, 1, 0, 2, 0],\n",
    "    'babies': [0, 0, 1, 0, 0],\n",
    "    'is_repeated_guest': [0, 1, 0, 1, 0],\n",
    "    'previous_cancellations': [0, 1, 0, 0, 0],\n",
    "    'previous_bookings_not_canceled': [2, 0, 3, 1, 4],\n",
    "    'booking_changes': [1, 0, 2, 3, 0],\n",
    "    'adr': [100, 120, 90, 150, 80],\n",
    "    'required_car_parking_spaces': [1, 0, 1, 0, 2],\n",
    "    'total_of_special_requests': [2, 0, 1, 3, 2]\n",
    "}\n",
    "\n",
    "# Create the DataFrame\n",
    "df = pd.DataFrame(data)\n",
    "\n",
    "# Display the DataFrame\n",
    "print(df)"
   ]
  },
  {
   "cell_type": "code",
   "execution_count": 7,
   "metadata": {},
   "outputs": [],
   "source": [
    "df.to_csv('testcsv.csv', index=False)"
   ]
  },
  {
   "cell_type": "code",
   "execution_count": null,
   "metadata": {},
   "outputs": [],
   "source": []
  }
 ],
 "metadata": {
  "kernelspec": {
   "display_name": "base",
   "language": "python",
   "name": "python3"
  },
  "language_info": {
   "codemirror_mode": {
    "name": "ipython",
    "version": 3
   },
   "file_extension": ".py",
   "mimetype": "text/x-python",
   "name": "python",
   "nbconvert_exporter": "python",
   "pygments_lexer": "ipython3",
   "version": "3.11.5"
  },
  "orig_nbformat": 4
 },
 "nbformat": 4,
 "nbformat_minor": 2
}
